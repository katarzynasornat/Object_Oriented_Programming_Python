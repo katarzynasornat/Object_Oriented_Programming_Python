{
 "cells": [
  {
   "cell_type": "markdown",
   "metadata": {},
   "source": [
    "In Python, method names that have leading and trailing double underscores are reserved for special use like the__init__ method for object constructors, or__call__ method to make object callable. These methods are known as dunder methods. dunder here means “Double Under (Underscores)”. These dunder methods are often referred to as magic methods"
   ]
  },
  {
   "cell_type": "markdown",
   "metadata": {},
   "source": [
    "### Things to Remember for dunders\n",
    "\n",
    "1. Call them “dunders” — Since there is nothing arcane or magical about them. Terminology like “magic” makes them seem much more complicated than they actually are.\n",
    "\n",
    "2. Implement dunders as desired — It’s a core Python feature and should be used as needed.\n",
    "\n",
    "3. Inventing our own dunders is highly discouraged — It’s best to stay away from using names that start and end with double underscores in our programs to avoid collisions with our own methods and attributes.\n",
    "\n",
    "\n",
    "**Dunder methods can be used to emulate behaviour of built-in types to user defined objects.**"
   ]
  },
  {
   "cell_type": "code",
   "execution_count": 7,
   "metadata": {},
   "outputs": [
    {
     "ename": "NameError",
     "evalue": "name 'NoLenDefined' is not defined",
     "output_type": "error",
     "traceback": [
      "\u001b[1;31m---------------------------------------------------------------------------\u001b[0m",
      "\u001b[1;31mNameError\u001b[0m                                 Traceback (most recent call last)",
      "\u001b[1;32m<ipython-input-7-6760a959deb6>\u001b[0m in \u001b[0;36m<module>\u001b[1;34m\u001b[0m\n\u001b[1;32m----> 1\u001b[1;33m \u001b[1;32mclass\u001b[0m \u001b[0mNoLenDefined\u001b[0m\u001b[1;33m:\u001b[0m\u001b[1;33m\u001b[0m\u001b[1;33m\u001b[0m\u001b[0m\n\u001b[0m\u001b[0;32m      2\u001b[0m     \u001b[1;32mpass\u001b[0m\u001b[1;33m\u001b[0m\u001b[1;33m\u001b[0m\u001b[0m\n\u001b[0;32m      3\u001b[0m     \u001b[0mobj\u001b[0m \u001b[1;33m=\u001b[0m \u001b[0mNoLenDefined\u001b[0m\u001b[1;33m(\u001b[0m\u001b[1;33m)\u001b[0m\u001b[1;33m\u001b[0m\u001b[1;33m\u001b[0m\u001b[0m\n\u001b[0;32m      4\u001b[0m     \u001b[0mlen\u001b[0m\u001b[1;33m(\u001b[0m\u001b[0mobj\u001b[0m\u001b[1;33m)\u001b[0m\u001b[1;33m\u001b[0m\u001b[1;33m\u001b[0m\u001b[0m\n",
      "\u001b[1;32m<ipython-input-7-6760a959deb6>\u001b[0m in \u001b[0;36mNoLenDefined\u001b[1;34m()\u001b[0m\n\u001b[0;32m      1\u001b[0m \u001b[1;32mclass\u001b[0m \u001b[0mNoLenDefined\u001b[0m\u001b[1;33m:\u001b[0m\u001b[1;33m\u001b[0m\u001b[1;33m\u001b[0m\u001b[0m\n\u001b[0;32m      2\u001b[0m     \u001b[1;32mpass\u001b[0m\u001b[1;33m\u001b[0m\u001b[1;33m\u001b[0m\u001b[0m\n\u001b[1;32m----> 3\u001b[1;33m     \u001b[0mobj\u001b[0m \u001b[1;33m=\u001b[0m \u001b[0mNoLenDefined\u001b[0m\u001b[1;33m(\u001b[0m\u001b[1;33m)\u001b[0m\u001b[1;33m\u001b[0m\u001b[1;33m\u001b[0m\u001b[0m\n\u001b[0m\u001b[0;32m      4\u001b[0m     \u001b[0mlen\u001b[0m\u001b[1;33m(\u001b[0m\u001b[0mobj\u001b[0m\u001b[1;33m)\u001b[0m\u001b[1;33m\u001b[0m\u001b[1;33m\u001b[0m\u001b[0m\n",
      "\u001b[1;31mNameError\u001b[0m: name 'NoLenDefined' is not defined"
     ]
    }
   ],
   "source": [
    "class NoLenDefined:\n",
    "    pass\n",
    "    obj = NoLenDefined()\n",
    "    len(obj)"
   ]
  },
  {
   "cell_type": "code",
   "execution_count": 8,
   "metadata": {},
   "outputs": [
    {
     "data": {
      "text/plain": [
       "1"
      ]
     },
     "execution_count": 8,
     "metadata": {},
     "output_type": "execute_result"
    }
   ],
   "source": [
    "class LenDefined:\n",
    "    def __len__(self):\n",
    "        return 1\n",
    "\n",
    "obj = LenDefined()\n",
    "len(obj)"
   ]
  },
  {
   "cell_type": "code",
   "execution_count": 6,
   "metadata": {},
   "outputs": [
    {
     "data": {
      "text/plain": [
       "['__class__',\n",
       " '__delattr__',\n",
       " '__dict__',\n",
       " '__dir__',\n",
       " '__doc__',\n",
       " '__eq__',\n",
       " '__format__',\n",
       " '__ge__',\n",
       " '__getattribute__',\n",
       " '__gt__',\n",
       " '__hash__',\n",
       " '__init__',\n",
       " '__init_subclass__',\n",
       " '__le__',\n",
       " '__len__',\n",
       " '__lt__',\n",
       " '__module__',\n",
       " '__ne__',\n",
       " '__new__',\n",
       " '__reduce__',\n",
       " '__reduce_ex__',\n",
       " '__repr__',\n",
       " '__setattr__',\n",
       " '__sizeof__',\n",
       " '__str__',\n",
       " '__subclasshook__',\n",
       " '__weakref__']"
      ]
     },
     "execution_count": 6,
     "metadata": {},
     "output_type": "execute_result"
    }
   ],
   "source": [
    "dir(obj) # to see the dunder methods inherited by the class"
   ]
  },
  {
   "cell_type": "markdown",
   "metadata": {},
   "source": [
    "### Object Initialization: \\_\\_init__"
   ]
  },
  {
   "cell_type": "markdown",
   "metadata": {},
   "source": [
    "When an object is created, it is initialized by calling the \\_\\_init__ method on the object."
   ]
  },
  {
   "cell_type": "code",
   "execution_count": 9,
   "metadata": {},
   "outputs": [
    {
     "data": {
      "text/plain": [
       "<__main__.Person at 0x1299f1a6d68>"
      ]
     },
     "execution_count": 9,
     "metadata": {},
     "output_type": "execute_result"
    }
   ],
   "source": [
    "class Person:\n",
    "    def __init__(self, name, age):\n",
    "        self.name = name\n",
    "        self.age = age\n",
    "person = Person('Sarah', 25)\n",
    "person"
   ]
  },
  {
   "cell_type": "markdown",
   "metadata": {},
   "source": [
    "When the \\_\\_init__ method is invoked, the object (in this case, person) is passed as “self”. Other arguments used in the method call are passed as the rest of the arguments to the function."
   ]
  },
  {
   "cell_type": "markdown",
   "metadata": {},
   "source": [
    "### Object Representation: \\_\\_str__ , \\_\\_repr__"
   ]
  },
  {
   "cell_type": "markdown",
   "metadata": {},
   "source": [
    "When we define a custom class and try to print its instance to the console, the result does not describe the object well, since the default “to string” conversion is basic and lacks details. Let’s consider the following example:"
   ]
  },
  {
   "cell_type": "code",
   "execution_count": 10,
   "metadata": {},
   "outputs": [
    {
     "name": "stdout",
     "output_type": "stream",
     "text": [
      "<__main__.Person object at 0x000001299F1B7160>\n"
     ]
    }
   ],
   "source": [
    "class Person:\n",
    "    def __init__(self, name, age):\n",
    "        self.name = name\n",
    "        self.age = age\n",
    "person = Person('Sarah', 25)\n",
    "print(person)"
   ]
  },
  {
   "cell_type": "markdown",
   "metadata": {},
   "source": [
    "By default, we got the name of the class along with the id of the object. It would be more desirable to get the attributes of the object printed such as this:"
   ]
  },
  {
   "cell_type": "code",
   "execution_count": 11,
   "metadata": {},
   "outputs": [
    {
     "name": "stdout",
     "output_type": "stream",
     "text": [
      "Sarah 25\n"
     ]
    }
   ],
   "source": [
    "print (person.name, person.age)"
   ]
  },
  {
   "cell_type": "markdown",
   "metadata": {},
   "source": [
    "To accomplish this, we can add our own to_string() method but doing that would be overlooking the python in built mechanism of representing objects as strings. Therefore let’s add “dunder” methods to our class to describe our object as we want."
   ]
  },
  {
   "cell_type": "code",
   "execution_count": 12,
   "metadata": {},
   "outputs": [],
   "source": [
    "class Person:\n",
    "    def __init__(self, name, age):\n",
    "        self.name = name\n",
    "        self.age = age\n",
    "    def __str__(self):\n",
    "        return \"Person: {}, Age: {}\".format(self.name, self.age)"
   ]
  },
  {
   "cell_type": "code",
   "execution_count": 13,
   "metadata": {},
   "outputs": [
    {
     "name": "stdout",
     "output_type": "stream",
     "text": [
      "Person: Sarah, Age: 25\n"
     ]
    }
   ],
   "source": [
    "person = Person('Sarah', 25)\n",
    "print(person)"
   ]
  },
  {
   "cell_type": "markdown",
   "metadata": {},
   "source": [
    "Therefore, \\_\\_str__ method can be overridden to return a printable string representation of any user defined class."
   ]
  },
  {
   "cell_type": "markdown",
   "metadata": {},
   "source": [
    "\\_\\_repr__ is similar to \\_\\_str__ but is used in a different situation. If we inspect our person object in interpreter session, we still got the <\\_\\_main__.Person instance at 0x10d5807e8> output. Let’s redefine our class to contain both dunder methods."
   ]
  },
  {
   "cell_type": "code",
   "execution_count": 16,
   "metadata": {},
   "outputs": [
    {
     "name": "stdout",
     "output_type": "stream",
     "text": [
      "inside repr\n"
     ]
    },
    {
     "data": {
      "text/plain": [
       "&&Person: Sarah, Age: 25"
      ]
     },
     "execution_count": 16,
     "metadata": {},
     "output_type": "execute_result"
    }
   ],
   "source": [
    "class Person:\n",
    "    def __init__(self, name, age):\n",
    "        self.name = name\n",
    "        self.age = age\n",
    "    def __str__(self):\n",
    "        print('inside str')\n",
    "        return \"Person: {}, Age: {}\".format(self.name, self.age)\n",
    "    def __repr__(self):\n",
    "        print('inside repr')\n",
    "        return \"&&Person: {}, Age: {}\".format(self.name, self.age)\n",
    "person = Person('Sarah', 25)\n",
    "person # without print"
   ]
  },
  {
   "cell_type": "markdown",
   "metadata": {},
   "source": [
    "As seen above, \\_\\_repr__ is invoked, when object is inspected in interpreter session.\n",
    "On a high level:\n",
    "- \\_\\_str__ is used for creating output for end user\n",
    "- \\_\\_repr__ is mainly used for debugging and development\n",
    "\n",
    "repr’s goal is to be unambiguous and str’s is to be readable."
   ]
  },
  {
   "cell_type": "markdown",
   "metadata": {},
   "source": [
    "### Highlights for \\_\\_str__ , \\_\\_repr__\n",
    "\n",
    "1. We can control to-string conversion in our own classes using the __str__ and __repr__ 'dunder' methods.\n",
    "\n",
    "2. \\_\\_repr__ compute the “official” string representation of an object (having all information about the object) and \\_\\_str__ is used for “informal” string representation of an object.\n",
    "\n",
    "3. If we don’t add a \\_\\_str__ method, Python falls back on the result of the \\_\\_repr__ when searching for \\_\\_str__ . Therefore adding \\_\\_repr__ to our classes is recommended."
   ]
  },
  {
   "cell_type": "markdown",
   "metadata": {},
   "source": [
    "### Iteration: \\_\\_getitem__ , \\_\\_setitem__ , \\_\\_len__"
   ]
  },
  {
   "cell_type": "markdown",
   "metadata": {},
   "source": [
    "Python built-in types list, str, and bytes can use the slicing operator [] to access range of elements. Implementing \\_\\_getitem__, \\_\\_setitem__in a class allows its instances to use the [] (indexer) operator. Therefore, the \\_\\_getitem__ and \\_\\_setitem__dunder methods is used for list indexing, dictionary lookups, or accessing ranges of values. To grasp the concept better, let’s consider the example in which we create our own custom list."
   ]
  },
  {
   "cell_type": "code",
   "execution_count": 23,
   "metadata": {},
   "outputs": [],
   "source": [
    "import random as ran\n",
    "\n",
    "class CustomList:\n",
    "    def __init__(self, num):\n",
    "        self.my_list = [ran.randrange(1,101,1) for _ in range(num)]\n"
   ]
  },
  {
   "cell_type": "code",
   "execution_count": 24,
   "metadata": {},
   "outputs": [],
   "source": [
    "obj = CustomList(5)"
   ]
  },
  {
   "cell_type": "code",
   "execution_count": 25,
   "metadata": {},
   "outputs": [
    {
     "data": {
      "text/plain": [
       "[26, 10, 88, 30, 39]"
      ]
     },
     "execution_count": 25,
     "metadata": {},
     "output_type": "execute_result"
    }
   ],
   "source": [
    "obj.my_list"
   ]
  },
  {
   "cell_type": "code",
   "execution_count": 26,
   "metadata": {},
   "outputs": [
    {
     "data": {
      "text/plain": [
       "5"
      ]
     },
     "execution_count": 26,
     "metadata": {},
     "output_type": "execute_result"
    }
   ],
   "source": [
    "len(obj)"
   ]
  },
  {
   "cell_type": "code",
   "execution_count": 28,
   "metadata": {},
   "outputs": [],
   "source": [
    "import random as ran\n",
    "class CustomList:\n",
    "    def __init__(self, num):\n",
    "        self.my_list = [ran.randrange(1,101,1) for _ in range(num)]\n",
    "        \n",
    "    def __str__(self):\n",
    "        return str(self.my_list)\n",
    "    \n",
    "    def __setitem__(self, index, value):\n",
    "        self.my_list[index] = value\n",
    "    \n",
    "    def __getitem__(self, index):\n",
    "        return self.my_list[index]\n",
    "    \n",
    "    def __len__(self):\n",
    "        return len(self.my_list)"
   ]
  },
  {
   "cell_type": "code",
   "execution_count": 29,
   "metadata": {},
   "outputs": [
    {
     "name": "stdout",
     "output_type": "stream",
     "text": [
      "[56, 28, 75, 80, 38]\n"
     ]
    }
   ],
   "source": [
    "obj = CustomList(5)\n",
    "print(obj)"
   ]
  },
  {
   "cell_type": "code",
   "execution_count": 30,
   "metadata": {},
   "outputs": [
    {
     "data": {
      "text/plain": [
       "5"
      ]
     },
     "execution_count": 30,
     "metadata": {},
     "output_type": "execute_result"
    }
   ],
   "source": [
    "len(obj)"
   ]
  },
  {
   "cell_type": "code",
   "execution_count": 31,
   "metadata": {},
   "outputs": [
    {
     "data": {
      "text/plain": [
       "28"
      ]
     },
     "execution_count": 31,
     "metadata": {},
     "output_type": "execute_result"
    }
   ],
   "source": [
    "obj[1]"
   ]
  },
  {
   "cell_type": "code",
   "execution_count": 32,
   "metadata": {},
   "outputs": [
    {
     "name": "stdout",
     "output_type": "stream",
     "text": [
      "56\n",
      "28\n",
      "75\n",
      "80\n",
      "38\n"
     ]
    }
   ],
   "source": [
    "for item in obj:\n",
    "    print (item)"
   ]
  },
  {
   "cell_type": "markdown",
   "metadata": {},
   "source": [
    "Therefore using \\_\\_setitem__ , \\_\\_getitem__ , \\_\\_len__ dunder methods allows us to use slicing operator and makes our object indexable.\n",
    "NOTE: \\_\\_iter__ and \\_\\_next__ dunder methods are used to write iterable objects as well."
   ]
  },
  {
   "cell_type": "markdown",
   "metadata": {},
   "source": [
    "### Object Invocation: __call__"
   ]
  },
  {
   "cell_type": "code",
   "execution_count": 33,
   "metadata": {},
   "outputs": [],
   "source": [
    "class Person:\n",
    "    def __init__(self, name, age):\n",
    "        self.name = name\n",
    "        self.age = age\n",
    "    def __call__(self):\n",
    "        print ('Person: {}, Age: {}'.format(self.name, self.age))"
   ]
  },
  {
   "cell_type": "code",
   "execution_count": 35,
   "metadata": {},
   "outputs": [
    {
     "name": "stdout",
     "output_type": "stream",
     "text": [
      "Person: Sarah, Age: 25\n"
     ]
    }
   ],
   "source": [
    "person = Person('Sarah', 25)\n",
    "person()"
   ]
  },
  {
   "cell_type": "markdown",
   "metadata": {},
   "source": [
    "\\_\\_call__ can be particularly useful in classes with instances that needs to often change state. \"Calling\" the instance can be an intuitive and elegant way to change the object's state. An example might be a class representing an entity's position on a plane:"
   ]
  },
  {
   "cell_type": "code",
   "execution_count": 48,
   "metadata": {},
   "outputs": [],
   "source": [
    "class Entity:\n",
    "    '''Callable to update the entity's position.'''\n",
    "\n",
    "    def __init__(self, x, y):\n",
    "        self.x, self.y = x, y\n",
    "\n",
    "    def __call__(self, x, y):\n",
    "        '''Change the position of the entity.'''\n",
    "        self.x, self.y = x, y"
   ]
  },
  {
   "cell_type": "code",
   "execution_count": 49,
   "metadata": {},
   "outputs": [
    {
     "name": "stdout",
     "output_type": "stream",
     "text": [
      "10 20\n"
     ]
    }
   ],
   "source": [
    "point = Entity(10, 20)\n",
    "print(point.x, point.y)"
   ]
  },
  {
   "cell_type": "code",
   "execution_count": 50,
   "metadata": {},
   "outputs": [
    {
     "name": "stdout",
     "output_type": "stream",
     "text": [
      "30 40\n"
     ]
    }
   ],
   "source": [
    "point(30, 40)\n",
    "print(point.x, point.y)"
   ]
  },
  {
   "cell_type": "markdown",
   "metadata": {},
   "source": [
    "#### References\n",
    "\n",
    "[1] https://medium.com/python-features/magic-methods-demystified-3c9e93144bf7\n",
    "\n",
    "[2] https://docs.python.org/3/reference/datamodel.html"
   ]
  },
  {
   "cell_type": "code",
   "execution_count": null,
   "metadata": {},
   "outputs": [],
   "source": []
  }
 ],
 "metadata": {
  "kernelspec": {
   "display_name": "Python 3",
   "language": "python",
   "name": "python3"
  },
  "language_info": {
   "codemirror_mode": {
    "name": "ipython",
    "version": 3
   },
   "file_extension": ".py",
   "mimetype": "text/x-python",
   "name": "python",
   "nbconvert_exporter": "python",
   "pygments_lexer": "ipython3",
   "version": "3.7.2"
  }
 },
 "nbformat": 4,
 "nbformat_minor": 4
}
